{
 "cells": [
  {
   "cell_type": "code",
   "execution_count": 1,
   "id": "26e5dfa4",
   "metadata": {
    "id": "26e5dfa4"
   },
   "outputs": [],
   "source": [
    "import pandas as pd\n",
    "import numpy as np\n",
    "import matplotlib.pyplot as plt\n",
    "import seaborn as sns"
   ]
  },
  {
   "cell_type": "code",
   "execution_count": 2,
   "id": "af64b60f",
   "metadata": {
    "id": "af64b60f"
   },
   "outputs": [],
   "source": [
    "# load data\n",
    "train = pd.read_csv(\"train.csv\")\n",
    "test = pd.read_csv(\"test.csv\")"
   ]
  },
  {
   "cell_type": "code",
   "execution_count": 3,
   "id": "b4163440",
   "metadata": {
    "id": "b4163440"
   },
   "outputs": [],
   "source": [
    "# 找出target\n",
    "Y_train = train[\"label\"]\n",
    "\n",
    "# Drop 'label' column\n",
    "X_train = train.drop(labels = [\"label\"],axis = 1)"
   ]
  },
  {
   "cell_type": "code",
   "execution_count": 4,
   "id": "343233ec",
   "metadata": {
    "colab": {
     "base_uri": "https://localhost:8080/"
    },
    "id": "343233ec",
    "outputId": "fdf05035-8076-4e1d-fdd3-351537871b85"
   },
   "outputs": [
    {
     "data": {
      "text/plain": [
       "1    4684\n",
       "7    4401\n",
       "3    4351\n",
       "9    4188\n",
       "2    4177\n",
       "6    4137\n",
       "0    4132\n",
       "4    4072\n",
       "8    4063\n",
       "5    3795\n",
       "Name: label, dtype: int64"
      ]
     },
     "execution_count": 4,
     "metadata": {},
     "output_type": "execute_result"
    }
   ],
   "source": [
    "Y_train.value_counts()"
   ]
  },
  {
   "cell_type": "markdown",
   "id": "822cc4e0",
   "metadata": {
    "id": "822cc4e0"
   },
   "source": [
    "## 查找有沒有缺失值"
   ]
  },
  {
   "cell_type": "code",
   "execution_count": 5,
   "id": "5867ccec",
   "metadata": {
    "colab": {
     "base_uri": "https://localhost:8080/"
    },
    "id": "5867ccec",
    "outputId": "1dbbca84-6534-4cec-e2cc-8b72a1783360"
   },
   "outputs": [
    {
     "data": {
      "text/plain": [
       "count       784\n",
       "unique        1\n",
       "top       False\n",
       "freq        784\n",
       "dtype: object"
      ]
     },
     "execution_count": 5,
     "metadata": {},
     "output_type": "execute_result"
    }
   ],
   "source": [
    "X_train.isnull().any().describe()"
   ]
  },
  {
   "cell_type": "code",
   "execution_count": 6,
   "id": "b8ecf2da",
   "metadata": {
    "colab": {
     "base_uri": "https://localhost:8080/"
    },
    "id": "b8ecf2da",
    "outputId": "a475dae1-b62e-4210-c1af-d8617deaed21"
   },
   "outputs": [
    {
     "data": {
      "text/plain": [
       "count       784\n",
       "unique        1\n",
       "top       False\n",
       "freq        784\n",
       "dtype: object"
      ]
     },
     "execution_count": 6,
     "metadata": {},
     "output_type": "execute_result"
    }
   ],
   "source": [
    "test.isnull().any().describe()"
   ]
  },
  {
   "cell_type": "markdown",
   "id": "07d1884b",
   "metadata": {
    "id": "07d1884b"
   },
   "source": [
    "## Normalization"
   ]
  },
  {
   "cell_type": "code",
   "execution_count": 7,
   "id": "a42ce5df",
   "metadata": {
    "id": "a42ce5df"
   },
   "outputs": [],
   "source": [
    "# 在RGB影像中，像素值通常在0到255的範圍內。 因此，將像素值除以255，可以將它們縮放到0到1之間\n",
    "X_train = X_train / 255.0\n",
    "test = test / 255.0"
   ]
  },
  {
   "cell_type": "code",
   "execution_count": 8,
   "id": "2c456059",
   "metadata": {
    "id": "2c456059"
   },
   "outputs": [],
   "source": [
    "# Reshape\n",
    "X_train = X_train.values.reshape(-1,28,28,1)\n",
    "test = test.values.reshape(-1,28,28,1)"
   ]
  },
  {
   "cell_type": "code",
   "execution_count": 9,
   "id": "a0370795",
   "metadata": {
    "id": "a0370795"
   },
   "outputs": [],
   "source": [
    "from keras.utils import to_categorical \n",
    "# 轉換為one-hot-encoding\n",
    "Y_train = to_categorical(Y_train, num_classes = 10)"
   ]
  },
  {
   "cell_type": "code",
   "execution_count": 10,
   "id": "19985cad",
   "metadata": {
    "id": "19985cad"
   },
   "outputs": [],
   "source": [
    "from sklearn.model_selection import train_test_split\n",
    "# 分割data\n",
    "X_train, X_val, Y_train, Y_val = train_test_split(X_train, Y_train, test_size = 0.1, random_state=2)"
   ]
  },
  {
   "cell_type": "markdown",
   "id": "c78fda4f",
   "metadata": {
    "id": "c78fda4f"
   },
   "source": [
    "## Model"
   ]
  },
  {
   "cell_type": "code",
   "execution_count": 11,
   "id": "d1aafd10",
   "metadata": {
    "colab": {
     "base_uri": "https://localhost:8080/"
    },
    "id": "d1aafd10",
    "outputId": "7f189f99-0746-4215-b5e8-a348193f0ef8"
   },
   "outputs": [
    {
     "name": "stdout",
     "output_type": "stream",
     "text": [
      "Model: \"sequential\"\n",
      "_________________________________________________________________\n",
      " Layer (type)                Output Shape              Param #   \n",
      "=================================================================\n",
      " conv2d (Conv2D)             (None, 28, 28, 32)        832       \n",
      "                                                                 \n",
      " conv2d_1 (Conv2D)           (None, 28, 28, 32)        25632     \n",
      "                                                                 \n",
      " max_pooling2d (MaxPooling2  (None, 14, 14, 32)        0         \n",
      " D)                                                              \n",
      "                                                                 \n",
      " dropout (Dropout)           (None, 14, 14, 32)        0         \n",
      "                                                                 \n",
      " conv2d_2 (Conv2D)           (None, 14, 14, 64)        18496     \n",
      "                                                                 \n",
      " conv2d_3 (Conv2D)           (None, 14, 14, 64)        36928     \n",
      "                                                                 \n",
      " max_pooling2d_1 (MaxPoolin  (None, 7, 7, 64)          0         \n",
      " g2D)                                                            \n",
      "                                                                 \n",
      " dropout_1 (Dropout)         (None, 7, 7, 64)          0         \n",
      "                                                                 \n",
      " flatten (Flatten)           (None, 3136)              0         \n",
      "                                                                 \n",
      " dense (Dense)               (None, 256)               803072    \n",
      "                                                                 \n",
      " dropout_2 (Dropout)         (None, 256)               0         \n",
      "                                                                 \n",
      " dense_1 (Dense)             (None, 10)                2570      \n",
      "                                                                 \n",
      "=================================================================\n",
      "Total params: 887530 (3.39 MB)\n",
      "Trainable params: 887530 (3.39 MB)\n",
      "Non-trainable params: 0 (0.00 Byte)\n",
      "_________________________________________________________________\n"
     ]
    }
   ],
   "source": [
    "from tensorflow.keras.models import Sequential\n",
    "from tensorflow.keras.layers import Dense, Dropout, Flatten, Conv2D, MaxPool2D\n",
    "\n",
    "model = Sequential()\n",
    "\n",
    "model.add(Conv2D(filters = 32, kernel_size = (5,5),padding = 'Same',\n",
    "                 activation ='relu', input_shape = (28,28,1)))\n",
    "model.add(Conv2D(filters = 32, kernel_size = (5,5),padding = 'Same',\n",
    "                 activation ='relu'))\n",
    "model.add(MaxPool2D(pool_size=(2,2)))\n",
    "model.add(Dropout(0.25))\n",
    "\n",
    "\n",
    "model.add(Conv2D(filters = 64, kernel_size = (3,3),padding = 'Same',\n",
    "                 activation ='relu'))\n",
    "model.add(Conv2D(filters = 64, kernel_size = (3,3),padding = 'Same',\n",
    "                 activation ='relu'))\n",
    "model.add(MaxPool2D(pool_size=(2,2), strides=(2,2)))\n",
    "model.add(Dropout(0.25))\n",
    "\n",
    "\n",
    "model.add(Flatten())\n",
    "model.add(Dense(256, activation = \"relu\"))\n",
    "model.add(Dropout(0.5))\n",
    "model.add(Dense(10, activation = \"softmax\"))\n",
    "model.summary()"
   ]
  },
  {
   "cell_type": "code",
   "execution_count": 12,
   "id": "85abfda0",
   "metadata": {
    "colab": {
     "base_uri": "https://localhost:8080/"
    },
    "id": "85abfda0",
    "outputId": "5dfe630e-c75b-4331-8186-2b2852253491"
   },
   "outputs": [
    {
     "name": "stderr",
     "output_type": "stream",
     "text": [
      "WARNING:absl:`lr` is deprecated in Keras optimizer, please use `learning_rate` or use the legacy optimizer, e.g.,tf.keras.optimizers.legacy.Adam.\n"
     ]
    }
   ],
   "source": [
    "from tensorflow.keras.optimizers import Adam\n",
    "# optimizer\n",
    "optimizer = Adam(lr=1e-5)\n",
    "\n",
    "# Compile the model\n",
    "model.compile(optimizer = optimizer , loss = \"categorical_crossentropy\", metrics=[\"accuracy\"])"
   ]
  },
  {
   "cell_type": "code",
   "execution_count": 13,
   "id": "3dd26d9f",
   "metadata": {
    "id": "3dd26d9f"
   },
   "outputs": [],
   "source": [
    "from tensorflow.keras.callbacks import ReduceLROnPlateau\n",
    "# Set a learning rate annealer\n",
    "learning_rate_reduction = ReduceLROnPlateau(monitor='val_accuracy',\n",
    "                                            patience=3,\n",
    "                                            verbose=1,\n",
    "                                            factor=0.5,\n",
    "                                            min_lr=0.00001)\n",
    "epochs = 20 \n",
    "batch_size = 128"
   ]
  },
  {
   "cell_type": "code",
   "execution_count": 14,
   "id": "5f47a55a",
   "metadata": {
    "id": "5f47a55a"
   },
   "outputs": [],
   "source": [
    "from tensorflow.keras.preprocessing.image import ImageDataGenerator\n",
    "\n",
    "# 透過資料增強來防止overfitting\n",
    "\n",
    "datagen = ImageDataGenerator(\n",
    "        featurewise_center=False, # 將資料集的輸入平均值設為 0\n",
    "        Samplewise_center=False, # 將每個樣本平均值設為 0\n",
    "        featurewise_std_normalization=False, # 將輸入除以資料集的 std\n",
    "        Samplewise_std_normalization=False, # 將每個輸入除以其標準差\n",
    "        zca_whitening=False, # 應用ZCA白化\n",
    "        rotation_range=10, # 影像將以最多 ±10 度的角度隨機旋轉\n",
    "        Zoom_range = 0.1, # 影像將以最多 ±10% 的縮放比例隨機縮放\n",
    "        width_shift_range=0.1, # 影像將以最多 ±10% 影像寬度的範圍內進行隨機水平平移\n",
    "        height_shift_range=0.1, # 影像將以最多 ±10% 影像高度的範圍內進行隨機垂直平移\n",
    "        Horizontal_flip=False, # 隨機水平翻轉影像\n",
    "        Vertical_flip=False # 隨機垂直翻轉影像\n",
    ")\n",
    "\n",
    "\n",
    "datagen.fit(X_train)"
   ]
  },
  {
   "cell_type": "code",
   "execution_count": 15,
   "id": "dd01e323",
   "metadata": {
    "colab": {
     "base_uri": "https://localhost:8080/"
    },
    "id": "dd01e323",
    "outputId": "562054b8-09b4-4bdc-eb90-ee6238c2653d"
   },
   "outputs": [
    {
     "name": "stderr",
     "output_type": "stream",
     "text": [
      "<ipython-input-15-26a34c78c849>:2: UserWarning: `Model.fit_generator` is deprecated and will be removed in a future version. Please use `Model.fit`, which supports generators.\n",
      "  history = model.fit_generator(datagen.flow(X_train,Y_train, batch_size=batch_size),\n"
     ]
    },
    {
     "name": "stdout",
     "output_type": "stream",
     "text": [
      "Epoch 1/20\n",
      "295/295 - 26s - loss: 0.4767 - accuracy: 0.8430 - val_loss: 0.0659 - val_accuracy: 0.9807 - lr: 0.0010 - 26s/epoch - 88ms/step\n",
      "Epoch 2/20\n",
      "295/295 - 13s - loss: 0.1401 - accuracy: 0.9580 - val_loss: 0.0443 - val_accuracy: 0.9862 - lr: 0.0010 - 13s/epoch - 43ms/step\n",
      "Epoch 3/20\n",
      "295/295 - 14s - loss: 0.1027 - accuracy: 0.9686 - val_loss: 0.0358 - val_accuracy: 0.9881 - lr: 0.0010 - 14s/epoch - 49ms/step\n",
      "Epoch 4/20\n",
      "295/295 - 13s - loss: 0.0872 - accuracy: 0.9732 - val_loss: 0.0296 - val_accuracy: 0.9898 - lr: 0.0010 - 13s/epoch - 43ms/step\n",
      "Epoch 5/20\n",
      "295/295 - 13s - loss: 0.0715 - accuracy: 0.9789 - val_loss: 0.0349 - val_accuracy: 0.9879 - lr: 0.0010 - 13s/epoch - 43ms/step\n",
      "Epoch 6/20\n",
      "295/295 - 14s - loss: 0.0640 - accuracy: 0.9805 - val_loss: 0.0290 - val_accuracy: 0.9919 - lr: 0.0010 - 14s/epoch - 49ms/step\n",
      "Epoch 7/20\n",
      "295/295 - 14s - loss: 0.0630 - accuracy: 0.9810 - val_loss: 0.0205 - val_accuracy: 0.9931 - lr: 0.0010 - 14s/epoch - 47ms/step\n",
      "Epoch 8/20\n",
      "295/295 - 13s - loss: 0.0585 - accuracy: 0.9825 - val_loss: 0.0208 - val_accuracy: 0.9945 - lr: 0.0010 - 13s/epoch - 43ms/step\n",
      "Epoch 9/20\n",
      "295/295 - 15s - loss: 0.0539 - accuracy: 0.9844 - val_loss: 0.0219 - val_accuracy: 0.9933 - lr: 0.0010 - 15s/epoch - 51ms/step\n",
      "Epoch 10/20\n",
      "295/295 - 13s - loss: 0.0473 - accuracy: 0.9851 - val_loss: 0.0211 - val_accuracy: 0.9936 - lr: 0.0010 - 13s/epoch - 44ms/step\n",
      "Epoch 11/20\n",
      "\n",
      "Epoch 11: ReduceLROnPlateau reducing learning rate to 0.0005000000237487257.\n",
      "295/295 - 13s - loss: 0.0493 - accuracy: 0.9856 - val_loss: 0.0234 - val_accuracy: 0.9924 - lr: 0.0010 - 13s/epoch - 43ms/step\n",
      "Epoch 12/20\n",
      "295/295 - 13s - loss: 0.0354 - accuracy: 0.9887 - val_loss: 0.0231 - val_accuracy: 0.9938 - lr: 5.0000e-04 - 13s/epoch - 44ms/step\n",
      "Epoch 13/20\n",
      "295/295 - 14s - loss: 0.0357 - accuracy: 0.9892 - val_loss: 0.0194 - val_accuracy: 0.9936 - lr: 5.0000e-04 - 14s/epoch - 47ms/step\n",
      "Epoch 14/20\n",
      "295/295 - 13s - loss: 0.0342 - accuracy: 0.9894 - val_loss: 0.0169 - val_accuracy: 0.9950 - lr: 5.0000e-04 - 13s/epoch - 44ms/step\n",
      "Epoch 15/20\n",
      "295/295 - 13s - loss: 0.0334 - accuracy: 0.9901 - val_loss: 0.0143 - val_accuracy: 0.9943 - lr: 5.0000e-04 - 13s/epoch - 43ms/step\n",
      "Epoch 16/20\n",
      "295/295 - 14s - loss: 0.0329 - accuracy: 0.9901 - val_loss: 0.0142 - val_accuracy: 0.9964 - lr: 5.0000e-04 - 14s/epoch - 48ms/step\n",
      "Epoch 17/20\n",
      "295/295 - 15s - loss: 0.0311 - accuracy: 0.9908 - val_loss: 0.0198 - val_accuracy: 0.9940 - lr: 5.0000e-04 - 15s/epoch - 49ms/step\n",
      "Epoch 18/20\n",
      "295/295 - 13s - loss: 0.0323 - accuracy: 0.9901 - val_loss: 0.0151 - val_accuracy: 0.9948 - lr: 5.0000e-04 - 13s/epoch - 43ms/step\n",
      "Epoch 19/20\n",
      "\n",
      "Epoch 19: ReduceLROnPlateau reducing learning rate to 0.0002500000118743628.\n",
      "295/295 - 13s - loss: 0.0281 - accuracy: 0.9909 - val_loss: 0.0167 - val_accuracy: 0.9945 - lr: 5.0000e-04 - 13s/epoch - 44ms/step\n",
      "Epoch 20/20\n",
      "295/295 - 13s - loss: 0.0243 - accuracy: 0.9922 - val_loss: 0.0156 - val_accuracy: 0.9950 - lr: 2.5000e-04 - 13s/epoch - 42ms/step\n"
     ]
    }
   ],
   "source": [
    "# Fit the model\n",
    "history = model.fit_generator(datagen.flow(X_train,Y_train, batch_size=batch_size),\n",
    "                              epochs = epochs,\n",
    "                              validation_data = (X_val,Y_val),\n",
    "                              verbose = 2,\n",
    "                              steps_per_epoch=X_train.shape[0] // batch_size,\n",
    "                              callbacks=[learning_rate_reduction])"
   ]
  },
  {
   "cell_type": "markdown",
   "id": "125e607c",
   "metadata": {
    "id": "125e607c"
   },
   "source": [
    "## Training & validation acc & loss曲線 "
   ]
  },
  {
   "cell_type": "code",
   "execution_count": 16,
   "id": "c8dba087",
   "metadata": {
    "colab": {
     "base_uri": "https://localhost:8080/",
     "height": 927
    },
    "id": "c8dba087",
    "outputId": "0d9bd3a7-a15a-452c-aa48-b8b04d31fa1c"
   },
   "outputs": [
    {
     "data": {
      "image/png": "[encoded data removed]",
      "text/plain": [
       "<Figure size 640x480 with 1 Axes>"
      ]
     },
     "metadata": {},
     "output_type": "display_data"
    },
    {
     "data": {
      "image/png": "[encoded data removed]",
      "text/plain": [
       "<Figure size 640x480 with 1 Axes>"
      ]
     },
     "metadata": {},
     "output_type": "display_data"
    }
   ],
   "source": [
    "import matplotlib.pyplot as plt\n",
    "\n",
    "# Plot training & validation acc\n",
    "plt.plot(history.history['accuracy'])\n",
    "plt.plot(history.history['val_accuracy'])\n",
    "plt.title('Model Accuracy')\n",
    "plt.xlabel('Epoch')\n",
    "plt.ylabel('Accuracy')\n",
    "plt.legend(['Train', 'Validation'], loc='upper left')\n",
    "plt.show()\n",
    "\n",
    "# Plot training & validation loss\n",
    "plt.plot(history.history['loss'])\n",
    "plt.plot(history.history['val_loss'])\n",
    "plt.title('Model Loss')\n",
    "plt.xlabel('Epoch')\n",
    "plt.ylabel('Loss')\n",
    "plt.legend(['Train', 'Validation'], loc='upper left')\n",
    "plt.show()"
   ]
  },
  {
   "cell_type": "markdown",
   "id": "a4eddc77",
   "metadata": {
    "id": "a4eddc77"
   },
   "source": [
    "## 混淆矩陣"
   ]
  },
  {
   "cell_type": "code",
   "execution_count": 23,
   "id": "PF5k2JHBXEhu",
   "metadata": {
    "colab": {
     "base_uri": "https://localhost:8080/",
     "height": 582
    },
    "id": "PF5k2JHBXEhu",
    "outputId": "d89dae80-3663-4f02-99c6-5e4163ccb586"
   },
   "outputs": [
    {
     "name": "stdout",
     "output_type": "stream",
     "text": [
      "132/132 [==============================] - 1s 5ms/step\n"
     ]
    },
    {
     "data": {
      "image/png": "[encoded data removed]",
      "text/plain": [
       "<Figure size 800x600 with 2 Axes>"
      ]
     },
     "metadata": {},
     "output_type": "display_data"
    }
   ],
   "source": [
    "from sklearn.metrics import confusion_matrix\n",
    "\n",
    "# Get predicted labels\n",
    "Y_pred = model.predict(X_val)\n",
    "\n",
    "# 將 one-hot 編碼標籤轉換為分類標籤\n",
    "Y_pred_classes = np.argmax(Y_pred, axis=1)\n",
    "Y_true = np.argmax(Y_val, axis=1)\n",
    "\n",
    "# Create 混淆矩陣\n",
    "conf_matrix = confusion_matrix(Y_true, Y_pred_classes)\n",
    "\n",
    "# Plot confusion matrix using seaborn\n",
    "plt.figure(figsize=(8, 6))\n",
    "sns.heatmap(conf_matrix, annot=True, fmt='d', cmap='Blues', xticklabels=np.arange(10), yticklabels=np.arange(10))\n",
    "plt.title('Confusion Matrix')\n",
    "plt.xlabel('Predicted')\n",
    "plt.ylabel('True')\n",
    "plt.show()"
   ]
  },
  {
   "cell_type": "code",
   "execution_count": 19,
   "id": "a6f0c344",
   "metadata": {
    "colab": {
     "base_uri": "https://localhost:8080/"
    },
    "id": "a6f0c344",
    "outputId": "91a0e52e-9d5c-4a8e-ef37-1a32b887ac29"
   },
   "outputs": [
    {
     "name": "stdout",
     "output_type": "stream",
     "text": [
      "875/875 [==============================] - 4s 4ms/step\n"
     ]
    }
   ],
   "source": [
    "# predict results\n",
    "results = model.predict(test)\n",
    "\n",
    "# select the indix with the maximum probability\n",
    "results = np.argmax(results,axis = 1)\n",
    "\n",
    "results = pd.Series(results,name=\"Label\")"
   ]
  },
  {
   "cell_type": "code",
   "execution_count": 20,
   "id": "51605919",
   "metadata": {
    "id": "51605919"
   },
   "outputs": [],
   "source": [
    "submission = pd.concat([pd.Series(range(1,28001),name = \"ImageId\"),results],axis = 1)\n",
    "\n",
    "submission.to_csv(\"cnn_mnist.csv\",index=False)"
   ]
  }
 ],
 "metadata": {
  "accelerator": "GPU",
  "colab": {
   "gpuType": "T4",
   "provenance": []
  },
  "kernelspec": {
   "display_name": "Python 3",
   "language": "python",
   "name": "python3"
  },
  "language_info": {
   "codemirror_mode": {
    "name": "ipython",
    "version": 3
   },
   "file_extension": ".py",
   "mimetype": "text/x-python",
   "name": "python",
   "nbconvert_exporter": "python",
   "pygments_lexer": "ipython3",
   "version": "3.6.13"
  }
 },
 "nbformat": 4,
 "nbformat_minor": 5
}
